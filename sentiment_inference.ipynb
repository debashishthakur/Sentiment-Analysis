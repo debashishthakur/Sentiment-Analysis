{
 "cells": [
  {
   "cell_type": "markdown",
   "id": "11b81a3b-d669-4503-929f-0b71e3f09cf7",
   "metadata": {},
   "source": [
    "# This inferencing function will predict the sentiment of any new and unseen texts. Just add your text in the new_messages list and run the following code block to see the prediction"
   ]
  },
  {
   "cell_type": "code",
   "execution_count": 5,
   "id": "c599c298-8bde-4465-becd-0c899113eef5",
   "metadata": {},
   "outputs": [
    {
     "name": "stdout",
     "output_type": "stream",
     "text": [
      "Message: I am very happy with your service!\n",
      "Predicted Sentiment: Happy\n",
      "\n",
      "Message: This is the worst experience I have ever had.\n",
      "Predicted Sentiment: Neutral\n",
      "\n",
      "Message: I feel so curious about the new features.\n",
      "Predicted Sentiment: Curious to dive deeper\n",
      "\n",
      "Message: Lol its funny\n",
      "Predicted Sentiment: Happy\n",
      "\n",
      "Message: This is so bad\n",
      "Predicted Sentiment: Neutral\n",
      "\n",
      "Message: This is disgusting\n",
      "Predicted Sentiment: Sad\n",
      "\n",
      "Message: A google search takes more energy than sending astronauts to moon!!\n",
      "Predicted Sentiment: Surprised\n",
      "\n",
      "Message: Yeah I heard about his daughter passing away!\n",
      "Predicted Sentiment: Curious to dive deeper\n",
      "\n",
      "Message: Heyyy I just got my gift.\n",
      "Predicted Sentiment: Happy\n",
      "\n"
     ]
    }
   ],
   "source": [
    "import torch\n",
    "from transformers import BertTokenizer, BertForSequenceClassification\n",
    "import pickle\n",
    "\n",
    "class SentimentAnalyzer:\n",
    "    def __init__(self, model_path: str, tokenizer_path: str, label_encoder_path: str):\n",
    "        # Load the model\n",
    "        self.model = BertForSequenceClassification.from_pretrained(model_path)\n",
    "        \n",
    "        # Load the tokenizer\n",
    "        self.tokenizer = BertTokenizer.from_pretrained(tokenizer_path)\n",
    "        \n",
    "        # Load the label encoder\n",
    "        with open(label_encoder_path, 'rb') as f:\n",
    "            self.label_encoder = pickle.load(f)\n",
    "\n",
    "    def predict_sentiment(self, text: str) -> str:\n",
    "        # Tokenize input\n",
    "        inputs = self.tokenizer(text, return_tensors='pt', truncation=True, padding=True, max_length=128)\n",
    "        \n",
    "        # Make prediction\n",
    "        with torch.no_grad():\n",
    "            outputs = self.model(**inputs)\n",
    "            predictions = torch.argmax(outputs.logits, dim=1)\n",
    "        \n",
    "        # Decode prediction\n",
    "        return self.label_encoder.inverse_transform(predictions.cpu().numpy())[0]\n",
    "\n",
    "# Example usage:\n",
    "if __name__ == \"__main__\":\n",
    "    # Initialize the SentimentAnalyzer\n",
    "    analyzer = SentimentAnalyzer(\n",
    "        model_path='./sentiment_model',\n",
    "        tokenizer_path='./sentiment_model',\n",
    "        label_encoder_path='label_encoder.pkl'\n",
    "    )\n",
    "\n",
    "    # Test the sentiment analyzer\n",
    "    new_messages = [\n",
    "        \"I am very happy with your service!\",\n",
    "        \"This is the worst experience I have ever had.\",\n",
    "        \"I feel so curious about the new features.\",\n",
    "        \"Lol its funny\",\n",
    "        \"This is so bad\",\n",
    "        \"This is disgusting\",\n",
    "        \"A google search takes more energy than sending astronauts to moon!!\",\n",
    "        \"Yeah I heard about his daughter passing away!\",\n",
    "        \"Heyyy I just got my gift.\"\n",
    "    ]\n",
    "\n",
    "    for message in new_messages:\n",
    "        sentiment = analyzer.predict_sentiment(message)\n",
    "        print(f\"Message: {message}\\nPredicted Sentiment: {sentiment}\\n\")\n"
   ]
  },
  {
   "cell_type": "code",
   "execution_count": null,
   "id": "94ac8511-3d9e-44fa-8eff-f28d6f9ae6f9",
   "metadata": {},
   "outputs": [],
   "source": []
  }
 ],
 "metadata": {
  "kernelspec": {
   "display_name": "Python 3 (ipykernel)",
   "language": "python",
   "name": "python3"
  },
  "language_info": {
   "codemirror_mode": {
    "name": "ipython",
    "version": 3
   },
   "file_extension": ".py",
   "mimetype": "text/x-python",
   "name": "python",
   "nbconvert_exporter": "python",
   "pygments_lexer": "ipython3",
   "version": "3.12.3"
  }
 },
 "nbformat": 4,
 "nbformat_minor": 5
}
