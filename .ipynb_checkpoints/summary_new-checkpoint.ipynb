{
 "cells": [
  {
   "cell_type": "markdown",
   "id": "f3c89794-8896-4d19-a4c9-6c51a62a66e7",
   "metadata": {},
   "source": [
    "# Task -> Build a summarisation model that can summarise conversations in 2-3 sentences"
   ]
  },
  {
   "cell_type": "markdown",
   "id": "bf484270-3030-424d-890a-90f47e0b49bb",
   "metadata": {},
   "source": [
    "# In this approach I have tried to use langchain with groq inferencing through the new llama 3.1 LLM. Then I prompted the LLM to act as a conversation summariser and summarise the conversations into 2-3 sentences. I collected the responses for each conversations and stored it into a separate csv file"
   ]
  },
  {
   "cell_type": "markdown",
   "id": "dd6795b4-3f5f-4da5-80c0-f2d7b35ae377",
   "metadata": {},
   "source": [
    "# Importing libraries"
   ]
  },
  {
   "cell_type": "code",
   "execution_count": 1,
   "id": "4f72996d-47b6-47b5-9010-649948d39378",
   "metadata": {},
   "outputs": [],
   "source": [
    "import pandas as pd\n",
    "from transformers import pipeline\n",
    "\n",
    "# Load the dataset\n",
    "file_path = 'topical_chat_dataset-top_100.csv'\n",
    "data = pd.read_csv(file_path)\n",
    "\n",
    "# Aggregate messages by conversation_id\n",
    "conversations = data.groupby('conversation_id')['message'].apply(lambda x: ' '.join(x)).reset_index()\n",
    "\n"
   ]
  },
  {
   "cell_type": "code",
   "execution_count": 2,
   "id": "d50d5c95-2c04-40a7-99c8-1d57bc6a1bc8",
   "metadata": {},
   "outputs": [
    {
     "name": "stdout",
     "output_type": "stream",
     "text": [
      "    conversation_id                                            message\n",
      "0                 1  Are you a fan of Google or Microsoft? Both are...\n",
      "1                 2  do you like dance? Yes  I do. Did you know Bru...\n",
      "2                 3  Hey what's up do use Google very often?I reall...\n",
      "3                 4  Hi!  do you like to dance? I love to dance a l...\n",
      "4                 5  do you like dance? I love it. Did you know Bru...\n",
      "..              ...                                                ...\n",
      "95               96  Dogs or cats?  Hi! I have two cats, but want a...\n",
      "96               97  Crazy that early humans used to have to battle...\n",
      "97               98   Hi, Do you like to cook? I love to cook. just...\n",
      "98               99  Hi do you like tennis? Oh yeah! I pick up a ra...\n",
      "99              100  What do you think of Serena Williams? I really...\n",
      "\n",
      "[100 rows x 2 columns]\n"
     ]
    }
   ],
   "source": [
    "print(conversations)"
   ]
  },
  {
   "cell_type": "code",
   "execution_count": 3,
   "id": "17ea80ac-ad5f-402a-aacf-b15a2168f15c",
   "metadata": {},
   "outputs": [],
   "source": [
    "conversations.to_csv('to_100_organised.csv')"
   ]
  },
  {
   "cell_type": "code",
   "execution_count": 4,
   "id": "0eaa55ee-31b7-40a0-b27a-82211f5b7bf5",
   "metadata": {},
   "outputs": [
    {
     "name": "stdout",
     "output_type": "stream",
     "text": [
      "   Unnamed: 0  conversation_id  \\\n",
      "0           0                1   \n",
      "1           1                2   \n",
      "2           2                3   \n",
      "3           3                4   \n",
      "4           4                5   \n",
      "\n",
      "                                             message  \n",
      "0  Are you a fan of Google or Microsoft? Both are...  \n",
      "1  do you like dance? Yes  I do. Did you know Bru...  \n",
      "2  Hey what's up do use Google very often?I reall...  \n",
      "3  Hi!  do you like to dance? I love to dance a l...  \n",
      "4  do you like dance? I love it. Did you know Bru...  \n"
     ]
    }
   ],
   "source": [
    "import pandas as pd\n",
    "\n",
    "# Load the data\n",
    "file_path = 'to_100_organised.csv'\n",
    "conversations_df = pd.read_csv(file_path)\n",
    "\n",
    "# Display the first few rows to understand its structure\n",
    "print(conversations_df.head())\n"
   ]
  },
  {
   "cell_type": "code",
   "execution_count": 5,
   "id": "43dd5be6-fbcb-43df-ae20-a83fc73a0cc5",
   "metadata": {},
   "outputs": [],
   "source": [
    "conversations_df_test = conversations_df[:10]"
   ]
  },
  {
   "cell_type": "code",
   "execution_count": 6,
   "id": "9226e509-d0e7-4252-b69a-4bd655d3425a",
   "metadata": {},
   "outputs": [
    {
     "data": {
      "text/plain": [
       "'Are you a fan of Google or Microsoft? Both are excellent technology they are helpful in many ways. For the security purpose both are super.  I\\'m not  a huge fan of Google, but I use it a lot because I have to. I think they are a monopoly in some sense.   Google provides online related services and products, which includes online ads, search engine and cloud computing.  Yeah, their services are good. I\\'m just not a fan of intrusive they can be on our personal lives.  Google is leading the alphabet subsidiary and will continue to be the Umbrella company for Alphabet internet interest. Did you know Google had hundreds of live goats to cut the grass in the past?  It is very interesting. Google provide \"Chrome OS\" which is a light weight OS. Google provided a lot of hardware mainly in 2010 to 2015.  I like Google Chrome. Do you use it as well for your browser?  Yes.Google is the biggest search engine and Google service figure out top 100 website, including Youtube and Blogger.  By the way, do you like Fish?  Yes. They form a sister group of tourniquets- they make the sea water clean and remove the dust from it. Fish is the biggest part in the eco-system. Did you know that a seahorse is the only fish to have a neck?  Freshwater fish only drink water through the skin via Osmosis, Saltwater fish drink water through the mouth. Dolphins are friendly to human beings.  Interesting, they also have gills. Did you know that jellyfish are immortal?  Yes. Fish is the important resources of human world wide for the commercial and subsistence fish hunts the fish in the wild fisheries.  What about cats, do you like cats? I\\'m a dog fan myself.  The cat is referred as domestic cat and wild cat. They make our world very clean from rats!  Yeah, cats can be cool, but they sure do spend a lot of their time sleeping.  Cats hear the sounds too faint or too high frequency human ears can hear.  I heard that too. Well, it was nice chatting with you. Have a good day. '"
      ]
     },
     "execution_count": 6,
     "metadata": {},
     "output_type": "execute_result"
    }
   ],
   "source": [
    "conversations_df_test['message'][0]"
   ]
  },
  {
   "cell_type": "markdown",
   "id": "839b549c-adc3-4826-8977-1d7e2e3e7796",
   "metadata": {},
   "source": [
    "# Initialised langchain and a chain using Groq chat and llama 3.1 LLM"
   ]
  },
  {
   "cell_type": "code",
   "execution_count": 7,
   "id": "a1a53b5a-0039-4170-b826-84339a5cb737",
   "metadata": {},
   "outputs": [],
   "source": [
    "from langchain_core.prompts import ChatPromptTemplate\n",
    "from langchain_groq import ChatGroq\n",
    "\n",
    "# Initialize the Groq client with your API key\n",
    "groq_api_key = \"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\"\n",
    "chat = ChatGroq(temperature=0, groq_api_key=groq_api_key, model_name=\"llama-3.1-8b-instant\")\n",
    "\n",
    "# Define the system and human messages\n",
    "system = \"You are a helpful assistant for summarising messages into 2-3 sentences. Avoid using the sentence 'Here is a 3-sentence summary of the conversation'. Instead directly provide only the summary\"\n",
    "human = \"{text}\"\n",
    "\n",
    "# Create the prompt template\n",
    "prompt = ChatPromptTemplate.from_messages([(\"system\", system), (\"human\", human)])\n",
    "\n",
    "# Create the chain\n",
    "chain = prompt | chat\n"
   ]
  },
  {
   "cell_type": "markdown",
   "id": "ebabf059-73e2-4cca-9cf4-de0e18e79426",
   "metadata": {},
   "source": [
    "# built a function to return the summarised response of the text"
   ]
  },
  {
   "cell_type": "code",
   "execution_count": 8,
   "id": "9cfb367c-7b31-4aa2-b3ff-7d9ab74f1bd0",
   "metadata": {},
   "outputs": [
    {
     "name": "stdout",
     "output_type": "stream",
     "text": [
      "   Unnamed: 0  conversation_id  \\\n",
      "0           0                1   \n",
      "1           1                2   \n",
      "2           2                3   \n",
      "3           3                4   \n",
      "4           4                5   \n",
      "\n",
      "                                             message  \\\n",
      "0  Are you a fan of Google or Microsoft? Both are...   \n",
      "1  do you like dance? Yes  I do. Did you know Bru...   \n",
      "2  Hey what's up do use Google very often?I reall...   \n",
      "3  Hi!  do you like to dance? I love to dance a l...   \n",
      "4  do you like dance? I love it. Did you know Bru...   \n",
      "\n",
      "                                             summary  \n",
      "0  The conversation started with a discussion abo...  \n",
      "1  You both enjoy dance and mentioned various int...  \n",
      "2  Google was founded in 1998 and has become a da...  \n",
      "3  You and the other person discussed their share...  \n",
      "4  You both enjoy dance and share interesting fac...  \n"
     ]
    }
   ],
   "source": [
    "def summarize_conversation(conversation):\n",
    "    response = chain.invoke({\"text\": conversation})\n",
    "    \n",
    "    # Print the response to debug its structure\n",
    "    # print(\"Response:\", response.content)\n",
    "    \n",
    "    \n",
    "    # Assuming response is a dictionary with 'choices' key containing a list\n",
    "    # if isinstance(response, dict) and 'choices' in response and len(response['choices']) > 0:\n",
    "    #     summary = response['choices'][0]['message']['content']\n",
    "    # else:\n",
    "    #     summary = \"Summary not available\"\n",
    "        \n",
    "    return response.content\n",
    "# Apply summarization to each conversation\n",
    "conversations_df['summary'] = conversations_df['message'].apply(summarize_conversation)\n",
    "\n",
    "# Display the dataframe with summaries\n",
    "print(conversations_df.head())\n"
   ]
  },
  {
   "cell_type": "code",
   "execution_count": 9,
   "id": "d4a30c6e-3977-4a12-8c48-f4fbb8663bdc",
   "metadata": {},
   "outputs": [
    {
     "data": {
      "text/plain": [
       "'The conversation started with a discussion about Google and Microsoft, with the speaker expressing a neutral stance towards Google due to its monopoly and intrusive nature. They mentioned various Google services and products, including Google Chrome, which they use as their browser. The conversation then took a tangent to discuss fish, dolphins, and cats, with the speaker sharing interesting facts about these animals.'"
      ]
     },
     "execution_count": 9,
     "metadata": {},
     "output_type": "execute_result"
    }
   ],
   "source": [
    "conversations_df['summary'][0]"
   ]
  },
  {
   "cell_type": "markdown",
   "id": "8aed192d-d344-4977-b08a-ccbe833b8290",
   "metadata": {},
   "source": [
    "# conversation_df contains the message and their corrwsponding summary"
   ]
  },
  {
   "cell_type": "code",
   "execution_count": 10,
   "id": "300dd22d-3422-4209-9742-1b67d20497fc",
   "metadata": {},
   "outputs": [
    {
     "data": {
      "text/html": [
       "<div>\n",
       "<style scoped>\n",
       "    .dataframe tbody tr th:only-of-type {\n",
       "        vertical-align: middle;\n",
       "    }\n",
       "\n",
       "    .dataframe tbody tr th {\n",
       "        vertical-align: top;\n",
       "    }\n",
       "\n",
       "    .dataframe thead th {\n",
       "        text-align: right;\n",
       "    }\n",
       "</style>\n",
       "<table border=\"1\" class=\"dataframe\">\n",
       "  <thead>\n",
       "    <tr style=\"text-align: right;\">\n",
       "      <th></th>\n",
       "      <th>Unnamed: 0</th>\n",
       "      <th>conversation_id</th>\n",
       "      <th>message</th>\n",
       "      <th>summary</th>\n",
       "    </tr>\n",
       "  </thead>\n",
       "  <tbody>\n",
       "    <tr>\n",
       "      <th>0</th>\n",
       "      <td>0</td>\n",
       "      <td>1</td>\n",
       "      <td>Are you a fan of Google or Microsoft? Both are...</td>\n",
       "      <td>The conversation started with a discussion abo...</td>\n",
       "    </tr>\n",
       "    <tr>\n",
       "      <th>1</th>\n",
       "      <td>1</td>\n",
       "      <td>2</td>\n",
       "      <td>do you like dance? Yes  I do. Did you know Bru...</td>\n",
       "      <td>You both enjoy dance and mentioned various int...</td>\n",
       "    </tr>\n",
       "    <tr>\n",
       "      <th>2</th>\n",
       "      <td>2</td>\n",
       "      <td>3</td>\n",
       "      <td>Hey what's up do use Google very often?I reall...</td>\n",
       "      <td>Google was founded in 1998 and has become a da...</td>\n",
       "    </tr>\n",
       "    <tr>\n",
       "      <th>3</th>\n",
       "      <td>3</td>\n",
       "      <td>4</td>\n",
       "      <td>Hi!  do you like to dance? I love to dance a l...</td>\n",
       "      <td>You and the other person discussed their share...</td>\n",
       "    </tr>\n",
       "    <tr>\n",
       "      <th>4</th>\n",
       "      <td>4</td>\n",
       "      <td>5</td>\n",
       "      <td>do you like dance? I love it. Did you know Bru...</td>\n",
       "      <td>You both enjoy dance and share interesting fac...</td>\n",
       "    </tr>\n",
       "    <tr>\n",
       "      <th>...</th>\n",
       "      <td>...</td>\n",
       "      <td>...</td>\n",
       "      <td>...</td>\n",
       "      <td>...</td>\n",
       "    </tr>\n",
       "    <tr>\n",
       "      <th>95</th>\n",
       "      <td>95</td>\n",
       "      <td>96</td>\n",
       "      <td>Dogs or cats?  Hi! I have two cats, but want a...</td>\n",
       "      <td>You and the other person discussed their prefe...</td>\n",
       "    </tr>\n",
       "    <tr>\n",
       "      <th>96</th>\n",
       "      <td>96</td>\n",
       "      <td>97</td>\n",
       "      <td>Crazy that early humans used to have to battle...</td>\n",
       "      <td>Early humans had to battle giant sloths, and h...</td>\n",
       "    </tr>\n",
       "    <tr>\n",
       "      <th>97</th>\n",
       "      <td>97</td>\n",
       "      <td>98</td>\n",
       "      <td>Hi, Do you like to cook? I love to cook. just...</td>\n",
       "      <td>You both enjoy cooking, but prefer to grill or...</td>\n",
       "    </tr>\n",
       "    <tr>\n",
       "      <th>98</th>\n",
       "      <td>98</td>\n",
       "      <td>99</td>\n",
       "      <td>Hi do you like tennis? Oh yeah! I pick up a ra...</td>\n",
       "      <td>You and the other person discussed tennis, sha...</td>\n",
       "    </tr>\n",
       "    <tr>\n",
       "      <th>99</th>\n",
       "      <td>99</td>\n",
       "      <td>100</td>\n",
       "      <td>What do you think of Serena Williams? I really...</td>\n",
       "      <td>You and the other person discussed Serena Will...</td>\n",
       "    </tr>\n",
       "  </tbody>\n",
       "</table>\n",
       "<p>100 rows × 4 columns</p>\n",
       "</div>"
      ],
      "text/plain": [
       "    Unnamed: 0  conversation_id  \\\n",
       "0            0                1   \n",
       "1            1                2   \n",
       "2            2                3   \n",
       "3            3                4   \n",
       "4            4                5   \n",
       "..         ...              ...   \n",
       "95          95               96   \n",
       "96          96               97   \n",
       "97          97               98   \n",
       "98          98               99   \n",
       "99          99              100   \n",
       "\n",
       "                                              message  \\\n",
       "0   Are you a fan of Google or Microsoft? Both are...   \n",
       "1   do you like dance? Yes  I do. Did you know Bru...   \n",
       "2   Hey what's up do use Google very often?I reall...   \n",
       "3   Hi!  do you like to dance? I love to dance a l...   \n",
       "4   do you like dance? I love it. Did you know Bru...   \n",
       "..                                                ...   \n",
       "95  Dogs or cats?  Hi! I have two cats, but want a...   \n",
       "96  Crazy that early humans used to have to battle...   \n",
       "97   Hi, Do you like to cook? I love to cook. just...   \n",
       "98  Hi do you like tennis? Oh yeah! I pick up a ra...   \n",
       "99  What do you think of Serena Williams? I really...   \n",
       "\n",
       "                                              summary  \n",
       "0   The conversation started with a discussion abo...  \n",
       "1   You both enjoy dance and mentioned various int...  \n",
       "2   Google was founded in 1998 and has become a da...  \n",
       "3   You and the other person discussed their share...  \n",
       "4   You both enjoy dance and share interesting fac...  \n",
       "..                                                ...  \n",
       "95  You and the other person discussed their prefe...  \n",
       "96  Early humans had to battle giant sloths, and h...  \n",
       "97  You both enjoy cooking, but prefer to grill or...  \n",
       "98  You and the other person discussed tennis, sha...  \n",
       "99  You and the other person discussed Serena Will...  \n",
       "\n",
       "[100 rows x 4 columns]"
      ]
     },
     "execution_count": 10,
     "metadata": {},
     "output_type": "execute_result"
    }
   ],
   "source": [
    "conversations_df"
   ]
  },
  {
   "cell_type": "markdown",
   "id": "daf38152-35f8-4b87-811b-4b3f50386460",
   "metadata": {},
   "source": [
    "# Saving the summaries into a separate csv file"
   ]
  },
  {
   "cell_type": "code",
   "execution_count": 11,
   "id": "9ae079f4-7585-4298-b599-af03b9a6bbae",
   "metadata": {},
   "outputs": [],
   "source": [
    "conversations_df.to_csv('summarised_convo_final.csv')"
   ]
  },
  {
   "cell_type": "code",
   "execution_count": null,
   "id": "e037bbfe-b7be-4c55-8f0a-e60ad53a9bd6",
   "metadata": {},
   "outputs": [],
   "source": []
  }
 ],
 "metadata": {
  "kernelspec": {
   "display_name": "Python 3 (ipykernel)",
   "language": "python",
   "name": "python3"
  },
  "language_info": {
   "codemirror_mode": {
    "name": "ipython",
    "version": 3
   },
   "file_extension": ".py",
   "mimetype": "text/x-python",
   "name": "python",
   "nbconvert_exporter": "python",
   "pygments_lexer": "ipython3",
   "version": "3.12.3"
  }
 },
 "nbformat": 4,
 "nbformat_minor": 5
}
